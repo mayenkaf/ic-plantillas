{
  "nbformat": 4,
  "nbformat_minor": 0,
  "metadata": {
    "colab": {
      "name": "Plantilla-Ejercicios-ModelosLineales02.ipynb",
      "provenance": [],
      "collapsed_sections": []
    },
    "kernelspec": {
      "name": "python3",
      "display_name": "Python 3"
    }
  },
  "cells": [
    {
      "cell_type": "markdown",
      "metadata": {
        "id": "TXb3Haw_kQ-2"
      },
      "source": [
        "# Ejercicios de Modelos Lineales Parte 02\r\n",
        "**Inteligencia Computacional Grupo B VIII ciclo**\r\n",
        "\r\n",
        "Estudiante: ....\r\n",
        "\r\n",
        "Código de Estudiante:......\r\n",
        "\r\n",
        "Presentado hasta el 22 de Diciembre de 2020\r\n",
        "\r\n",
        "*@author: MFCh*"
      ]
    },
    {
      "cell_type": "markdown",
      "metadata": {
        "id": "U4P3WQMFuu3x"
      },
      "source": [
        "## Test 02\r\n",
        "\r\n",
        "**Componentes de un modelo**\r\n",
        "\r\n",
        "*Instrucciones*\r\n",
        "1. Complete la definicion de  model() para que tome x, y las entradas predeterminadas a0 = 3, a1 = 2, a2 = 0 como entrada, y devuelva Y.\r\n",
        "2. Cree una matriz de valores X utilizando el método numpy np.linspace().\r\n",
        "3. Pase x a su modelo model() sin especificar a0, a1, a2, para obtener los valores de Y predichos por defecto.\r\n",
        "4. Utilice plot_prediction() predefinido para ver un gráfico de los datos resultantes x e y."
      ]
    },
    {
      "cell_type": "code",
      "metadata": {
        "id": "RJOZfaqNxf_y"
      },
      "source": [
        "import matplotlib.pyplot as plt\r\n",
        "def plot_prediction(x,y):\r\n",
        "  plt.plot(x,y,'r-o')\r\n",
        "  plt.show()"
      ],
      "execution_count": null,
      "outputs": []
    },
    {
      "cell_type": "code",
      "metadata": {
        "id": "lVP-XCrbwB6Y"
      },
      "source": [
        "# Define the general model as a function\r\n",
        "def model(x, a0=____, a1=____, a2=____):\r\n",
        "    return a0 + (a1*____) + (a2*____*____)\r\n",
        "\r\n",
        "# Generate array x, then predict y values for specific, non-default a0 and a1\r\n",
        "x = np.____(-10, 10, 21)\r\n",
        "y = model(____)\r\n",
        "\r\n",
        "# Plot the results, y versus x\r\n",
        "fig = plot_prediction(____, ____)"
      ],
      "execution_count": null,
      "outputs": []
    },
    {
      "cell_type": "markdown",
      "metadata": {
        "id": "IxJmFOO_zPgr"
      },
      "source": [
        "## Test 03\r\n",
        "Ahora que ha creado un modelo general, \"optimicémoslo\" o \"ajustémoslo\" a un nuevo conjunto de datos medidos (precargados), xd, yd, encontrando los valores específicos para los parámetros del modelo a0, a1 para los cuales los datos del modelo y los datos medidos se alinean en un gráfico.\r\n",
        "\r\n",
        "Esta es una estrategia de visualización iterativa, en la que comenzamos con una suposición de los parámetros del modelo, los pasamos al modelo(), trazamos los datos modelados resultantes en los datos medidos y verificamos visualmente que la línea pase por los puntos. Si no es así, cambiamos los parámetros del modelo y volvemos a intentarlo.\r\n",
        "\r\n",
        "*Instrucciones*\r\n",
        "1. Complete la función plot_data_and_model(xd, yd, ym), pasando xd, yd y xd, ym en las llamadas de trazado internas.\r\n",
        "2. Calcule las predicciones del modelo usando ym = model() pasando tanto los datos xd como los parámetros adivinados por el modelo a0 y a1.\r\n",
        "3. Inspeccione los datos proporcionados anteriormente y utilícelos como guía cuando proporcione sus dos primeras estimaciones. Puede volver y revisar estas estimaciones después de revisar cómo la línea se ajusta a los datos.\r\n",
        "Utilice plot_data_and_model() para trazar xd, yd y ym juntos.\r\n",
        "4. Cambie los valores de a0 y a1 y repita los 2 pasos anteriores hasta que la línea pase por todos los puntos."
      ]
    },
    {
      "cell_type": "code",
      "metadata": {
        "id": "5ZM5I2yb0QMa"
      },
      "source": [
        "xd = np.linspace(0,10,21)\r\n",
        "yd = np.array([ 161.78587909,  132.72560763,  210.81767421,  179.6837026 ,\r\n",
        "        181.98528167,  234.67907351,  246.48971034,  221.58691239,\r\n",
        "        250.3924093 ,  206.43287615,  303.75089312,  312.29865056,\r\n",
        "        323.8331032 ,  261.9686295 ,  316.64806585,  337.55295912,\r\n",
        "        360.13633529,  369.72729852,  408.0289548 ,  348.82736117,\r\n",
        "        394.93384188])\r\n",
        "def plot_data(x,y):\r\n",
        "  fig,_ = plt.subplots()\r\n",
        "  fig.axes[0].scatter(x,y,c='black')\r\n",
        "  return fig\r\n"
      ],
      "execution_count": null,
      "outputs": []
    },
    {
      "cell_type": "code",
      "metadata": {
        "id": "H5FBvMhuzTUP"
      },
      "source": [
        "# Complete the plotting function definition\r\n",
        "def plot_data_with_model(xd, yd, ym):\r\n",
        "    fig = plot_data(____, ____)  # plot measured data\r\n",
        "    fig.axes[0].plot(____, ____, color='red')  # over-plot modeled data\r\n",
        "    plt.show()\r\n",
        "    return fig\r\n",
        "\r\n",
        "# Select new model parameters a0, a1, and generate modeled `ym` from them.\r\n",
        "a0 = ____\r\n",
        "a1 = ____\r\n",
        "ym = model(xd, a0, a1)\r\n",
        "\r\n",
        "# Plot the resulting model to see whether it fits the data\r\n",
        "fig = plot_data_with_model(xd, yd, ____)"
      ],
      "execution_count": null,
      "outputs": []
    },
    {
      "cell_type": "markdown",
      "metadata": {
        "id": "Yt5UWL_-dG0k"
      },
      "source": [
        "## Test 04\r\n",
        "La definición de escalas de temperatura está relacionada con la expansión lineal de ciertos líquidos, como el mercurio y el alcohol. Originalmente, estas escalas eran literalmente reglas para medir la longitud del fluido en el tubo estrecho marcado o \"graduado\" como un sustituto de la temperatura. El alcohol comienza en un bulbo y luego se expande linealmente en el tubo, en respuesta al aumento de temperatura del bulbo o lo que sea que lo rodea.\r\n",
        "\r\n",
        "En este ejercicio, exploraremos la conversión entre las escalas de temperatura Fahrenheit y Celsius como una demostración de la interpretación de la pendiente y la intersección de una relación lineal dentro de un contexto físico.\r\n",
        "\r\n",
        "*Instrucciones*\r\n",
        "1. Complete la función **temps_F = convert_scale(temps_C)** como un modelo lineal donde \"x\" es temps_C e \"y\" es temps_F.\r\n",
        "2. Calcule el cambio de temperatura en ambas escalas restando la temperatura de congelación de la temperatura de ebullición.\r\n",
        "3. Calcule la pendiente como el **change_in_F** dividido por el **change_in_C**.\r\n",
        "4. Calcule la intersección como la diferencia entre los puntos de congelación freeze_F y freeze_C.\r\n",
        "5. Utilice **plot_temperatures()** predefinido para trazar el modelo resultante."
      ]
    },
    {
      "cell_type": "code",
      "metadata": {
        "id": "gxDvZZR_jV7P"
      },
      "source": [
        " import matplotlib.pyplot as plt\r\n",
        " def plot_temperatures(x, y):\r\n",
        "   plt.plot(x,y)\r\n",
        "   return plt.show()"
      ],
      "execution_count": null,
      "outputs": []
    },
    {
      "cell_type": "code",
      "metadata": {
        "id": "8O3EZGLSh_4-"
      },
      "source": [
        "# Complete the function to convert C to F\r\n",
        "def convert_scale(temps_C):\r\n",
        "    (freeze_C, boil_C) = (0, 100)\r\n",
        "    (freeze_F, boil_F) = (32, 212)\r\n",
        "    change_in_C = ____ - freeze_C\r\n",
        "    change_in_F = ____ - freeze_F\r\n",
        "    slope = ____ / ____\r\n",
        "    intercept = ____ - freeze_C\r\n",
        "    temps_F = ____ + (____ * temps_C)\r\n",
        "    return temps_F\r\n",
        "\r\n",
        "# Use the convert function to compute values of F and plot them\r\n",
        "temps_C = np.linspace(0, 100, 101)\r\n",
        "temps_F = convert_scale(temps_C)\r\n",
        "fig = plot_temperatures(temps_C, temps_F)"
      ],
      "execution_count": null,
      "outputs": []
    },
    {
      "cell_type": "markdown",
      "metadata": {
        "id": "gJPcT-DFRF_q"
      },
      "source": [
        "## Test 05\r\n",
        "**Pendiente y tasas de cambio**\r\n",
        "\r\n",
        "En este ejercicio, modelará el movimiento de un automóvil que conduce (aproximadamente) a velocidad constante calculando la velocidad promedio durante todo el viaje. La relación lineal modelada es entre el tiempo transcurrido y la distancia recorrida.\r\n",
        "\r\n",
        "En este caso, el parámetro del modelo **a1**, o **pendiente**, se aproxima o \"estima\", como la velocidad media, o dicho de otra manera, la \"tasa de cambio\" de la distancia (\"subida\") dividida por el tiempo( \"correr\").\r\n",
        "\r\n",
        "**Instrucciones**\r\n",
        "1. Calcule las diferencias punto a punto tanto de los tiempos como de las distancias usando numpy.diff().\r\n",
        "2. Calcule un arreglo de velocidades como la relación **diff_distance** dividida por **diff_times**.\r\n",
        "3. Calcule el promedio y el rango de valores de velocidad, utilizando métodos numéricos mean, max, min.\r\n",
        "4. Trace la matriz de velocidades para visualizar el promedio y la dispersión de los valores."
      ]
    },
    {
      "cell_type": "code",
      "metadata": {
        "id": "X4VSqGA7P5QZ"
      },
      "source": [
        "import numpy as np\r\n",
        "import matplotlib.pyplot as plt\r\n",
        "times = np.linspace(0,2,25)\r\n",
        "distances = np.array([   0.13536211,    4.11568697,    8.28931902,   12.41058595,\r\n",
        "         16.73878397,   20.64153844,   25.14540098,   29.10323276,\r\n",
        "         33.35991992,   37.47921914,   41.78850899,   45.66165494,\r\n",
        "         49.9731319 ,   54.13466214,   58.42781412,   62.40834239,\r\n",
        "         66.65229765,   70.76017847,   75.00351781,   79.2152346 ,\r\n",
        "         83.24161507,   87.59539364,   91.74179923,   95.87520786,\r\n",
        "        100.07507133])"
      ],
      "execution_count": null,
      "outputs": []
    },
    {
      "cell_type": "code",
      "metadata": {
        "id": "9wM9LUnndLn_"
      },
      "source": [
        "# Compute an array of velocities as the slope between each point\r\n",
        "diff_distances = np.diff(____)\r\n",
        "diff_times = np.diff(____)\r\n",
        "velocities = ____ / diff_times\r\n",
        "\r\n",
        "# Chracterize the center and spread of the velocities\r\n",
        "v_avg = np.____(velocities)\r\n",
        "v_max = np.____(velocities)\r\n",
        "v_min = np.____(velocities)\r\n",
        "v_range = ____ - ____\r\n",
        "\r\n",
        "# Plot the distribution of velocities\r\n",
        "plt.axhline(v_avg,c='r',linestyle='-',label='Velocity mean')\r\n",
        "plt.scatter(times[1:],velocities, label='Velocity')\r\n",
        "plt.legend()\r\n",
        "plt.show()"
      ],
      "execution_count": null,
      "outputs": []
    },
    {
      "cell_type": "markdown",
      "metadata": {
        "id": "ODb8ru04gbuZ"
      },
      "source": [
        "## Test 06\r\n",
        "\r\n",
        "**Intercepción y puntos de partida**\r\n",
        "\r\n",
        "En este ejercicio, verá los parámetros de intersección y pendiente en el contexto de las medidas de modelado tomadas del volumen de una solución contenida en una jarra de vidrio grande. La solución está compuesta de agua, granos, azúcares y levadura. También se registró la masa total tanto de la solución como del recipiente de vidrio, pero no se anotó la masa del recipiente vacío.\r\n",
        "\r\n",
        "Su trabajo consiste en utilizar pandas DataFrame df precargado, con las columnas de datos **volumes** y **masses**, para construir un modelo lineal que relacione **masses** (datos_y) con **volumes** (datos_x). La pendiente será una estimación de la densidad (cambio de masa / cambio de volumen) de la solución, y la intersección será una estimación del peso del contenedor vacío (masa cuando volumen = 0).\r\n",
        "\r\n",
        "**Instrucciones**\r\n",
        "\r\n",
        "1. Importe **ols()** de *statsmodels* y usalo para construir un modelo que encaje con data-df con la formula = masses~ volumes\r\n",
        "2. Extraiga la intercepción **a0** y la pendiente **a1** con *.params['Intercept']* y *.params['volumes']* respectivamente\r\n",
        "3. Imprima **a0** y **a1** con nombres físicamente significativos\r\n",
        "4. Imprima **model_fit()** y observe los valores que coincidan con los encontrados arriba, busque etiquetas de fila **Intercept**, **volumes** y una etiqueta de columna **coef**."
      ]
    },
    {
      "cell_type": "code",
      "metadata": {
        "id": "F14flVx8gmIk"
      },
      "source": [
        "import pandas as pd\r\n",
        "df = pd.read_csv('volumes_masses.csv')\r\n",
        "\r\n",
        "# Import ols from statsmodels, and fit a model to the data\r\n",
        "from statsmodels.formula.api import ols\r\n",
        "model_fit = ols(formula=\"____ ~ ____\", data=____)\r\n",
        "model_fit = model_fit.fit()\r\n",
        "\r\n",
        "# Extract the model parameter values, and assign them to a0, a1\r\n",
        "a0 = model_fit.params['____']\r\n",
        "a1 = model_fit.params['____']\r\n",
        "\r\n",
        "# Print model parameter values with meaningful names, and compare to summary()\r\n",
        "print( \"container_mass   = {:0.4f}\".format(____) )\r\n",
        "print( \"solution_density = {:0.4f}\".format(____) )\r\n",
        "print( model_fit.summary() )"
      ],
      "execution_count": null,
      "outputs": []
    },
    {
      "cell_type": "markdown",
      "metadata": {
        "id": "w9BLdWw-4J_7"
      },
      "source": [
        "## Test 07\r\n",
        "\r\n",
        "En un ejercicio anterior, vimos que la altitud a lo largo de una ruta de senderismo se ajustaba aproximadamente a un modelo lineal, e introdujimos el concepto de diferencias entre el modelo y los datos como una medida de la bondad del modelo.\r\n",
        "\r\n",
        "En este ejercicio, trabajará con los mismos datos medidos y cuantificará qué tan bien se ajusta un modelo al calcular la suma del cuadrado de las \"diferencias\", también llamadas \"residuales\".\r\n",
        "\r\n",
        "*Instrucciones*\r\n",
        "1. Cargue x_data, y_data con la función load_data () predefinida.\r\n",
        "Llame al modelo predefinido (), pasando x_data y valores específicos a0, a1.\r\n",
        "Calcule los residuos como y_data - y_model y luego encuentre rss usando np.square () y np.sum ().\r\n",
        "Imprime el valor resultante de rss."
      ]
    },
    {
      "cell_type": "code",
      "metadata": {
        "id": "Od6tHuKx4Xox"
      },
      "source": [
        "xd = np.linspace(0,10,21)\r\n",
        "yd = np.array([ 161.78587909,  132.72560763,  210.81767421,  179.6837026 ,\r\n",
        "        181.98528167,  234.67907351,  246.48971034,  221.58691239,\r\n",
        "        250.3924093 ,  206.43287615,  303.75089312,  312.29865056,\r\n",
        "        323.8331032 ,  261.9686295 ,  316.64806585,  337.55295912,\r\n",
        "        360.13633529,  369.72729852,  408.0289548 ,  348.82736117,\r\n",
        "        394.93384188])\r\n",
        "def load_data():\r\n",
        "  return xd, yd\r\n",
        "  \r\n",
        "# Complete the model\r\n",
        "def model(x, a0, a1):\r\n",
        "  return ___ + (___*___)\r\n",
        "\r\n",
        "# Load the data\r\n",
        "x_data, y_data = ___\r\n",
        "\r\n",
        "# Model the data with specified values for parameters a0, a1\r\n",
        "y_model = model(____, a0=150, a1=25)\r\n",
        "\r\n",
        "# Compute the RSS value for this parameterization of the model\r\n",
        "rss = np.sum(np.square(____ - ____))\r\n",
        "print(\"RSS = {}\".format(____))"
      ],
      "execution_count": null,
      "outputs": []
    },
    {
      "cell_type": "markdown",
      "metadata": {
        "id": "pn5a4qPQ6QY6"
      },
      "source": [
        "## Test 08\r\n",
        "\r\n",
        "En este ejercicio, completará una función para comparar visualmente el modelo y los datos, y calcular e imprimir el RSS. Lo llamará más de una vez para ver cómo cambia RSS cuando cambia los valores de a0 y a1. Veremos que los valores de los parámetros que encontramos anteriormente son los necesarios para minimizar el RSS.\r\n",
        "\r\n",
        "*Instrucciones*\r\n",
        "1. Complete la llamada a model() pasando los datos xd y los parámetros del modelo a0 y a1.\r\n",
        "2. Calcule rss como la suma del cuadrado de los residuos.\r\n",
        "3. Use compute_rss_and_plot_fit() para varios valores de a0 y a1 para ver cómo cambian RSS.\r\n",
        "4. Convénzase de que los valores originales a0 = 150 y a1 = 25 minimizan el RSS."
      ]
    },
    {
      "cell_type": "code",
      "metadata": {
        "id": "Hw1lFRf47wEw"
      },
      "source": [
        "import matplotlib.pyplot as plt\r\n",
        "xd = np.linspace(0,10,21)\r\n",
        "yd = np.array([ 161.78587909,  132.72560763,  210.81767421,  179.6837026 ,\r\n",
        "        181.98528167,  234.67907351,  246.48971034,  221.58691239,\r\n",
        "        250.3924093 ,  206.43287615,  303.75089312,  312.29865056,\r\n",
        "        323.8331032 ,  261.9686295 ,  316.64806585,  337.55295912,\r\n",
        "        360.13633529,  369.72729852,  408.0289548 ,  348.82736117,\r\n",
        "        394.93384188])\r\n",
        "\r\n",
        "def plot_data_with_model(x,y,ym, summ):\r\n",
        "  fig,_ = plt.subplots()\r\n",
        "  fig.axes[0].scatter(x,y,c='black')\r\n",
        "  fig.axes[0].plot(x, ym, color='red')  # over-plot modeled data\r\n",
        "  plt.title(summ)\r\n",
        "  plt.show()\r\n",
        "  return fig\r\n",
        "\r\n",
        "# Complete function to load data, build model, compute RSS, and plot\r\n",
        "def compute_rss_and_plot_fit(a0, a1):\r\n",
        "    ym = model(xd, ____, ____)\r\n",
        "    residuals = ym - yd\r\n",
        "    rss = np.sum(np.square(____))\r\n",
        "    summary = \"Parameters a0={}, a1={} yield RSS={:0.2f}\".format(____, ____, rss)\r\n",
        "    fig = plot_data_with_model(xd, yd, ym, summary)\r\n",
        "    return rss, summary\r\n",
        "\r\n",
        "# Chose model parameter values and pass them into RSS function\r\n",
        "rss, summary = compute_rss_and_plot_fit(a0=____, a1=____)\r\n",
        "print(summary)\r\n"
      ],
      "execution_count": null,
      "outputs": []
    },
    {
      "cell_type": "markdown",
      "metadata": {
        "id": "m_J7WafG-XJu"
      },
      "source": [
        "## Test 09\r\n",
        "\r\n",
        "En este ejercicio, calculará y visualizará cómo varía RSS para diferentes valores de los parámetros del modelo. Comience manteniendo constante la intersección, pero varíe la pendiente: y para cada valor de pendiente, calculará los valores del modelo y el RSS resultante. Una vez que tenga una matriz de valores RSS, determinará el valor RSS mínimo, en código, y a partir de ese mínimo, determinará la pendiente que resultó en ese RSS mínimo.\r\n",
        "\r\n",
        "Utilice matrices de datos precargadas x_data, y_data y el contenedor vacío rss_list para comenzar.\r\n",
        "\r\n",
        "**Instrucciones**\r\n",
        "1. Para cada a1 en **a1_array** use el modelo para predecir el valor del modelo y luego calcular el valor de **RSS** con *y_model* y *y_data*, almacene este valor en la lista **rss_list**.\r\n",
        "2. Convierta *rss_list* a un **rss_array**, y halle el menor valor de rss.\r\n",
        "3. Use **np.where()** para hallar el valor a1 correspondiente y asignelo a **best_a1**.\r\n",
        "4. Muestre los resultados en una gráfica."
      ]
    },
    {
      "cell_type": "code",
      "metadata": {
        "id": "7jpjdJ3Q-uIV"
      },
      "source": [
        "import numpy as np\r\n",
        "import matplotlib.pyplot as plt\r\n",
        "\r\n",
        "def compute_rss(yd,ym):\r\n",
        "  return ___\r\n",
        "\r\n",
        "def model(x,a0,a1):\r\n",
        "  return ___\r\n",
        "\r\n",
        "rss_list = list()\r\n",
        "\r\n",
        "# Loop over all trial values in a1_array, computing rss for each\r\n",
        "a1_array = np.linspace(15, 35, 101)\r\n",
        "for a1_trial in a1_array:\r\n",
        "    y_model = model(x_data, a0=150, a1=____)\r\n",
        "    rss_value = compute_rss(y_data, ____)\r\n",
        "    rss_list.append(____)\r\n",
        "\r\n",
        "# Find the minimum RSS and the a1 value from whence it came\r\n",
        "rss_array = np.array(____)\r\n",
        "best_rss = np.min(____) \r\n",
        "best_a1 = a1_array[np.where(rss_array==____)]\r\n",
        "print('The minimum RSS = {}, came from a1 = {}'.format(best_rss, best_a1))\r\n",
        "\r\n",
        "# Plot your rss and a1 values to confirm answer\r\n",
        "plt.scatter(a1_array,rss_array)\r\n",
        "plt.scatter(best_a1,best_rss,c='r',s=60)\r\n",
        "plt.xlabel('Slope a1')\r\n",
        "plt.ylabel('RSS')\r\n",
        "plt.show()"
      ],
      "execution_count": null,
      "outputs": []
    },
    {
      "cell_type": "markdown",
      "metadata": {
        "id": "6UJyw4pBdvPA"
      },
      "source": [
        "## Test 10\r\n",
        "\r\n",
        "**Mínimos Cuadrados con Numpy**\r\n",
        "\r\n",
        "*Instrucciones*\r\n",
        "1. Calcule las medias y las desviaciones de las dos variables x, y a partir de los datos precargados.\r\n",
        "2. Utilice np.sum() para completar las fórmulas de mínimos cuadrados y utilícelas para calcular los valores óptimos para **a0** y **a1**.\r\n",
        "3. Use model() para construir los valores del modelo **y_model** a partir de esos valores de pendiente óptima *a1* y la intersección *a0*.\r\n",
        "4. Utilice compute_rss_and_plot_fit() definido anteriormente para confirmar visualmente que este modelo óptimo se ajusta a los datos."
      ]
    },
    {
      "cell_type": "code",
      "metadata": {
        "id": "FV-i1tEiowpC"
      },
      "source": [
        "x = np.linspace(0,10,21)\r\n",
        "y = np.array([ 161.78587909,  132.72560763,  210.81767421,  179.6837026 ,\r\n",
        "        181.98528167,  234.67907351,  246.48971034,  221.58691239,\r\n",
        "        250.3924093 ,  206.43287615,  303.75089312,  312.29865056,\r\n",
        "        323.8331032 ,  261.9686295 ,  316.64806585,  337.55295912,\r\n",
        "        360.13633529,  369.72729852,  408.0289548 ,  348.82736117,\r\n",
        "        394.93384188])\r\n",
        "\r\n",
        "# prepare the means and deviations of the two variables\r\n",
        "x_mean = np.____(x)\r\n",
        "y_mean = np.____(y)\r\n",
        "x_dev = x - ____\r\n",
        "y_dev = y - ____\r\n",
        "\r\n",
        "# Complete least-squares formulae to find the optimal a0, a1\r\n",
        "a1 = np.sum(____ * ____) / np.sum( np.square(____) )\r\n",
        "a0 = ____ - (a1 * ____)\r\n",
        "\r\n",
        "# Use the those optimal model parameters a0, a1 to build a model\r\n",
        "y_model = model(x, ____, ____)\r\n",
        "\r\n",
        "# plot to verify that the resulting y_model best fits the data y\r\n",
        "fig, rss = compute_rss_and_plot_fit(a0, a1)"
      ],
      "execution_count": null,
      "outputs": []
    },
    {
      "cell_type": "markdown",
      "metadata": {
        "id": "PK-aI0zFu9ay"
      },
      "source": [
        "##Test 11\r\n",
        "**Optimizando con Scipy**\r\n",
        "\r\n",
        "*Instrucciones*\r\n",
        "1. Defina una función model_func(x, a0, a1) que dada una matriz x devuelve a0 + a1 * x.\r\n",
        "2. Utilice la función scipy optimize.curve_fit() para calcular valores óptimos para a0 y a1.\r\n",
        "3. Desempaquete el param_opt para almacenar los parámetros del modelo como a0 = param_opt [0] y a1 = param_opt [1].\r\n",
        "4. Utilice la función definida anteriormente compute_rss_and_plot_fit para probar y verificar su respuesta.\r\n"
      ]
    },
    {
      "cell_type": "code",
      "metadata": {
        "id": "1zV-OaFLv6vI"
      },
      "source": [
        "from scipy import optimize\r\n",
        "def load_data():\r\n",
        "  return x_data, y_data\r\n",
        "\r\n",
        "# Define a model function needed as input to scipy\r\n",
        "def model_func(x, a0, a1):\r\n",
        "    return ____ + (____*x)\r\n",
        "\r\n",
        "# Load the measured data you want to model\r\n",
        "x_data, y_data  = load_data()\r\n",
        "\r\n",
        "# call curve_fit, passing in the model function and data; then unpack the results\r\n",
        "param_opt, param_cov = optimize.curve_fit(____, x_data, y_data)\r\n",
        "a0 = param_opt[0]  # a0 is the intercept in y = a0 + a1*x\r\n",
        "a1 = param_opt[1]  # a1 is the slope     in y = a0 + a1*x\r\n",
        "\r\n",
        "# test that these parameters result in a model that fits the data\r\n",
        "fig, rss = compute_rss_and_plot_fit(____, ____)"
      ],
      "execution_count": null,
      "outputs": []
    },
    {
      "cell_type": "markdown",
      "metadata": {
        "id": "9GmWMG9KyQrt"
      },
      "source": [
        "##Test 12\r\n",
        "\r\n",
        "**Mínimos Cuadrados con Statsmodels**\r\n",
        "\r\n",
        "*Instrucciones*\r\n",
        "1. Construya un modelo ols() con la fórmula = \"columna_y ~ columna_x\" y datos = df, y luego entrenelo con el método .fit()\r\n",
        "2. Utilice model_fit.predict() para obtener valores de y_model.\r\n",
        "3. Extraiga los valores de los parámetros del modelo a0 y a1 de model_fit.params.\r\n",
        "4. Use compute_rss_and_plot_fit() para confirmar que estos resultados son consistentes con las fórmulas analíticas implementadas con numpy."
      ]
    },
    {
      "cell_type": "code",
      "metadata": {
        "id": "cOwwGfOAzK9a"
      },
      "source": [
        "import pandas as pd\r\n",
        "from statsmodels.formula.api import ols\r\n",
        "df = pd.DataFrame(dict(x_column=x_data,y_column=y_data))\r\n",
        "\r\n",
        "# Pass data and `formula` into ols(), use and `.fit()` the model to the data\r\n",
        "model_fit = ols(____=\"y_column ~ x_column\", ____=df).____()\r\n",
        "\r\n",
        "# Use .predict(df) to get y_model values\r\n",
        "y_model = model_fit.____(df)\r\n",
        "\r\n",
        "# Extract the a0, a1 values from model_fit.params\r\n",
        "a0 = model_fit.____['Intercept']\r\n",
        "a1 = model_fit.____['x_column']\r\n",
        "\r\n",
        "# Visually verify that these parameters a0, a1 give the minimum RSS\r\n",
        "fig, rss = compute_rss_and_plot_fit(a0, a1)"
      ],
      "execution_count": null,
      "outputs": []
    }
  ]
}